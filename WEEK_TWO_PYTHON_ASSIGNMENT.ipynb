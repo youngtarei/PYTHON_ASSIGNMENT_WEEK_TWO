{
  "nbformat": 4,
  "nbformat_minor": 0,
  "metadata": {
    "colab": {
      "provenance": [],
      "authorship_tag": "ABX9TyM0f2DwuN0gDa4SBCQxlWAR",
      "include_colab_link": true
    },
    "kernelspec": {
      "name": "python3",
      "display_name": "Python 3"
    },
    "language_info": {
      "name": "python"
    }
  },
  "cells": [
    {
      "cell_type": "markdown",
      "metadata": {
        "id": "view-in-github",
        "colab_type": "text"
      },
      "source": [
        "<a href=\"https://colab.research.google.com/github/youngtarei/PYTHON_ASSIGNMENT_WEEK_TWO/blob/main/WEEK_TWO_PYTHON_ASSIGNMENT.ipynb\" target=\"_parent\"><img src=\"https://colab.research.google.com/assets/colab-badge.svg\" alt=\"Open In Colab\"/></a>"
      ]
    },
    {
      "cell_type": "code",
      "source": [
        "# Create an empty list called my_list\n",
        "my_list = []"
      ],
      "metadata": {
        "id": "lHJoROS9Z6Mg"
      },
      "execution_count": 2,
      "outputs": []
    },
    {
      "cell_type": "code",
      "source": [
        "# Append the elements 10, 20, 30, 40\n",
        "my_list.append(10)\n",
        "my_list.append(20)\n",
        "my_list.append(30)\n",
        "my_list.append(40)"
      ],
      "metadata": {
        "id": "-KsNbQQeaBcx"
      },
      "execution_count": 3,
      "outputs": []
    },
    {
      "cell_type": "code",
      "source": [
        "# Insert the value 15 at the second position (index 1)\n",
        "my_list.insert(1, 15)"
      ],
      "metadata": {
        "id": "k5HGTfNWaDik"
      },
      "execution_count": 4,
      "outputs": []
    },
    {
      "cell_type": "code",
      "source": [
        "# Extend my_list with another list: [50, 60, 70]\n",
        "my_list.extend([50, 60, 70])"
      ],
      "metadata": {
        "id": "Xfd0r5LqaHCE"
      },
      "execution_count": 5,
      "outputs": []
    },
    {
      "cell_type": "code",
      "source": [
        "# Remove the last element from my_list\n",
        "my_list.pop()"
      ],
      "metadata": {
        "colab": {
          "base_uri": "https://localhost:8080/"
        },
        "id": "i9WAuJjtaJbj",
        "outputId": "f5d359ad-ff3c-4ac5-cdb9-4757d3a0cd7a"
      },
      "execution_count": 6,
      "outputs": [
        {
          "output_type": "execute_result",
          "data": {
            "text/plain": [
              "70"
            ]
          },
          "metadata": {},
          "execution_count": 6
        }
      ]
    },
    {
      "cell_type": "code",
      "source": [
        "# Sort my_list in ascending order\n",
        "my_list.sort()"
      ],
      "metadata": {
        "id": "c_GMWWJdaMQg"
      },
      "execution_count": 8,
      "outputs": []
    },
    {
      "cell_type": "code",
      "source": [
        "# Find and print the index of the value 30\n",
        "index_30 = my_list.index(30)\n",
        "print(\"Index of 30:\", index_30)"
      ],
      "metadata": {
        "colab": {
          "base_uri": "https://localhost:8080/"
        },
        "id": "3r6mqkJ0aPN5",
        "outputId": "4613642c-2820-4d30-fe0e-3385df286646"
      },
      "execution_count": 9,
      "outputs": [
        {
          "output_type": "stream",
          "name": "stdout",
          "text": [
            "Index of 30: 3\n"
          ]
        }
      ]
    },
    {
      "cell_type": "code",
      "source": [
        "# Print final list to verify changes\n",
        "print(\"Final my_list:\", my_list)"
      ],
      "metadata": {
        "colab": {
          "base_uri": "https://localhost:8080/"
        },
        "id": "hUGI72BraTtC",
        "outputId": "55ca2dbf-532f-48ea-a90a-72e3e809abf4"
      },
      "execution_count": 10,
      "outputs": [
        {
          "output_type": "stream",
          "name": "stdout",
          "text": [
            "Final my_list: [10, 15, 20, 30, 40, 50, 60]\n"
          ]
        }
      ]
    }
  ]
}